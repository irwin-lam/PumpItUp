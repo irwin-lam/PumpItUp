{
 "cells": [
  {
   "cell_type": "code",
   "execution_count": 150,
   "metadata": {},
   "outputs": [],
   "source": [
    "import numpy as np\n",
    "import pandas as pd\n",
    "\n",
    "import statsmodels.api as sm\n",
    "import sklearn \n",
    "from sklearn.base import clone\n",
    "from sklearn.linear_model import LogisticRegression\n",
    "from sklearn.dummy import DummyClassifier\n",
    "\n",
    "from sklearn.model_selection import train_test_split, cross_val_score, GridSearchCV, KFold,cross_validate, cross_val_predict\n",
    "from sklearn.preprocessing import StandardScaler, MinMaxScaler, OneHotEncoder, FunctionTransformer, LabelBinarizer\n",
    "from sklearn.impute import SimpleImputer\n",
    "from sklearn.metrics import mean_squared_error, ConfusionMatrixDisplay, confusion_matrix, classification_report, \\\n",
    "plot_confusion_matrix, roc_curve, auc, accuracy_score\n",
    "\n",
    "from sklearn.pipeline import Pipeline\n",
    "from sklearn.compose import ColumnTransformer, make_column_selector as selector\n",
    "from imblearn.over_sampling import SMOTE\n",
    "from imblearn.pipeline import Pipeline as ImPipeline\n",
    "\n",
    "from matplotlib import pyplot as plt\n",
    "import seaborn as sns\n",
    "from collections import Counter\n",
    "import datetime as dt"
   ]
  },
  {
   "cell_type": "code",
   "execution_count": 2,
   "metadata": {},
   "outputs": [],
   "source": [
    "df = pd.read_csv('./Data/TrainCleaned1.csv')\n",
    "df2 = pd.read_csv('./Data/TrainCleaned2.csv')"
   ]
  },
  {
   "cell_type": "code",
   "execution_count": 3,
   "metadata": {},
   "outputs": [],
   "source": [
    "x = df.drop('status_group', axis =1)\n",
    "y = df.status_group\n",
    "\n",
    "x2 = df2.drop('status_group', axis =1)\n",
    "y2 = df2.status_group"
   ]
  },
  {
   "cell_type": "code",
   "execution_count": 4,
   "metadata": {},
   "outputs": [],
   "source": [
    "class ModelsList():\n",
    "    def __init__(self, x,y):\n",
    "        self.xtrain, self.xtest, self.ytrain, self.ytest = train_test_split(x,y,random_state=42)\n",
    "        self.length = 0\n",
    "        self.classification_reports = []\n",
    "        self.cv = []\n",
    "        self.df = pd.DataFrame({'Model' : pd.Series(dtype='str'), \n",
    "                    'train_score' : pd.Series(dtype='float64'), \n",
    "                    'test_score': pd.Series(dtype='float64'),\n",
    "                    'log_loss': pd.Series(dtype='float64'),\n",
    "                    'params':pd.Series(dtype='O')})\n",
    "    \n",
    "    def update(self, estimator, name, fit = True, params = 'None'):\n",
    "        self.length += 1\n",
    "        if fit:\n",
    "            estimator.fit(self.xtrain, self.ytrain)\n",
    "            \n",
    "        ypred = estimator.predict(self.xtest)\n",
    "        log_loss = -cross_val_score(estimator, self.xtrain, self.ytrain, scoring = 'neg_log_loss', n_jobs = -1).mean()\n",
    "        self.classification_reports.append(classification_report(self.ytest, ypred))\n",
    "        trainscore = estimator.score(self.xtrain, self.ytrain)\n",
    "        testscore = estimator.score(self.xtest, self.ytest)\n",
    "        model_to_add = [name, trainscore, testscore, log_loss, params]\n",
    "        self.df.loc[len(self.df.index)] = model_to_add\n",
    "        \n",
    "        cv = cross_val_score(estimator, self.xtrain, self.ytrain)\n",
    "        self.cv.append((cv.mean(), cv.std()))\n",
    "        return self.df\n",
    "    \n",
    "    def class_report(self):\n",
    "        for length in range(self.length):\n",
    "            print(\n",
    "            f\"\"\"Classification Report for '{self.df.Model[length]}':\n",
    "                \n",
    "            \"\"\"\n",
    "            )\n",
    "            print(self.classification_reports[length])\n",
    "            \n",
    "    def cv_summary(self):\n",
    "        for length in range(self.length):\n",
    "            print(\n",
    "            f\"\"\"Classification Report for '{self.df.Model[length]}':\n",
    "                {self.cv[length][0]:.5f} ± {self.cv[length][1]:.5f} accuracy\n",
    "            \"\"\"\n",
    "            )\n",
    "            \n",
    "    def delete_last(self):\n",
    "        self.length -= 1\n",
    "        self.df.drop(self.df.tail(1).index, inplace=True)"
   ]
  },
  {
   "cell_type": "code",
   "execution_count": 5,
   "metadata": {},
   "outputs": [],
   "source": [
    "model1 = ModelsList(x,y)\n",
    "model2 = ModelsList(x2,y2)"
   ]
  },
  {
   "cell_type": "code",
   "execution_count": 6,
   "metadata": {},
   "outputs": [],
   "source": [
    "subpipenum = Pipeline([\n",
    "    ('num_impute',SimpleImputer(add_indicator=True)),\n",
    "    ('ss', StandardScaler())\n",
    "])\n",
    "\n",
    "subpipecat = Pipeline([\n",
    "    ('cat_impute', SimpleImputer(strategy='most_frequent', add_indicator=True)),\n",
    "    ('ohe', OneHotEncoder(sparse=True, handle_unknown='ignore'))\n",
    "])"
   ]
  },
  {
   "cell_type": "code",
   "execution_count": 7,
   "metadata": {},
   "outputs": [],
   "source": [
    "ct = ColumnTransformer(transformers = [\n",
    "    ('subpipe_num',subpipenum, selector(dtype_include=np.number)),\n",
    "    ('subpipe_cat', subpipecat, selector(dtype_include=object))\n",
    "], remainder='passthrough', n_jobs = -1)"
   ]
  },
  {
   "cell_type": "code",
   "execution_count": 8,
   "metadata": {},
   "outputs": [],
   "source": [
    "dummy = Pipeline([\n",
    "    ('ct', ct),\n",
    "    ('dummy', DummyClassifier())\n",
    "])"
   ]
  },
  {
   "cell_type": "code",
   "execution_count": 9,
   "metadata": {
    "collapsed": true
   },
   "outputs": [
    {
     "name": "stderr",
     "output_type": "stream",
     "text": [
      "C:\\Users\\irwin\\anaconda3\\envs\\learn-env\\lib\\site-packages\\sklearn\\dummy.py:131: FutureWarning: The default value of strategy will change from stratified to prior in 0.24.\n",
      "  warnings.warn(\"The default value of strategy will change from \"\n",
      "C:\\Users\\irwin\\anaconda3\\envs\\learn-env\\lib\\site-packages\\sklearn\\dummy.py:131: FutureWarning: The default value of strategy will change from stratified to prior in 0.24.\n",
      "  warnings.warn(\"The default value of strategy will change from \"\n",
      "C:\\Users\\irwin\\anaconda3\\envs\\learn-env\\lib\\site-packages\\sklearn\\dummy.py:131: FutureWarning: The default value of strategy will change from stratified to prior in 0.24.\n",
      "  warnings.warn(\"The default value of strategy will change from \"\n",
      "C:\\Users\\irwin\\anaconda3\\envs\\learn-env\\lib\\site-packages\\sklearn\\dummy.py:131: FutureWarning: The default value of strategy will change from stratified to prior in 0.24.\n",
      "  warnings.warn(\"The default value of strategy will change from \"\n",
      "C:\\Users\\irwin\\anaconda3\\envs\\learn-env\\lib\\site-packages\\sklearn\\dummy.py:131: FutureWarning: The default value of strategy will change from stratified to prior in 0.24.\n",
      "  warnings.warn(\"The default value of strategy will change from \"\n"
     ]
    },
    {
     "name": "stdout",
     "output_type": "stream",
     "text": [
      "Wall time: 29.3 s\n"
     ]
    },
    {
     "name": "stderr",
     "output_type": "stream",
     "text": [
      "C:\\Users\\irwin\\anaconda3\\envs\\learn-env\\lib\\site-packages\\sklearn\\dummy.py:131: FutureWarning: The default value of strategy will change from stratified to prior in 0.24.\n",
      "  warnings.warn(\"The default value of strategy will change from \"\n"
     ]
    },
    {
     "data": {
      "text/html": [
       "<div>\n",
       "<style scoped>\n",
       "    .dataframe tbody tr th:only-of-type {\n",
       "        vertical-align: middle;\n",
       "    }\n",
       "\n",
       "    .dataframe tbody tr th {\n",
       "        vertical-align: top;\n",
       "    }\n",
       "\n",
       "    .dataframe thead th {\n",
       "        text-align: right;\n",
       "    }\n",
       "</style>\n",
       "<table border=\"1\" class=\"dataframe\">\n",
       "  <thead>\n",
       "    <tr style=\"text-align: right;\">\n",
       "      <th></th>\n",
       "      <th>Model</th>\n",
       "      <th>train_score</th>\n",
       "      <th>test_score</th>\n",
       "      <th>log_loss</th>\n",
       "      <th>params</th>\n",
       "    </tr>\n",
       "  </thead>\n",
       "  <tbody>\n",
       "    <tr>\n",
       "      <th>0</th>\n",
       "      <td>Dummy</td>\n",
       "      <td>0.447071</td>\n",
       "      <td>0.448283</td>\n",
       "      <td>19.1634</td>\n",
       "      <td>None</td>\n",
       "    </tr>\n",
       "  </tbody>\n",
       "</table>\n",
       "</div>"
      ],
      "text/plain": [
       "   Model  train_score  test_score  log_loss params\n",
       "0  Dummy     0.447071    0.448283   19.1634   None"
      ]
     },
     "execution_count": 9,
     "metadata": {},
     "output_type": "execute_result"
    }
   ],
   "source": [
    "%%time\n",
    "#roughly 30s\n",
    "model1.update(dummy, 'Dummy')"
   ]
  },
  {
   "cell_type": "code",
   "execution_count": 10,
   "metadata": {
    "collapsed": true
   },
   "outputs": [
    {
     "name": "stderr",
     "output_type": "stream",
     "text": [
      "C:\\Users\\irwin\\anaconda3\\envs\\learn-env\\lib\\site-packages\\sklearn\\dummy.py:131: FutureWarning: The default value of strategy will change from stratified to prior in 0.24.\n",
      "  warnings.warn(\"The default value of strategy will change from \"\n",
      "C:\\Users\\irwin\\anaconda3\\envs\\learn-env\\lib\\site-packages\\sklearn\\dummy.py:131: FutureWarning: The default value of strategy will change from stratified to prior in 0.24.\n",
      "  warnings.warn(\"The default value of strategy will change from \"\n",
      "C:\\Users\\irwin\\anaconda3\\envs\\learn-env\\lib\\site-packages\\sklearn\\dummy.py:131: FutureWarning: The default value of strategy will change from stratified to prior in 0.24.\n",
      "  warnings.warn(\"The default value of strategy will change from \"\n",
      "C:\\Users\\irwin\\anaconda3\\envs\\learn-env\\lib\\site-packages\\sklearn\\dummy.py:131: FutureWarning: The default value of strategy will change from stratified to prior in 0.24.\n",
      "  warnings.warn(\"The default value of strategy will change from \"\n",
      "C:\\Users\\irwin\\anaconda3\\envs\\learn-env\\lib\\site-packages\\sklearn\\dummy.py:131: FutureWarning: The default value of strategy will change from stratified to prior in 0.24.\n",
      "  warnings.warn(\"The default value of strategy will change from \"\n"
     ]
    },
    {
     "name": "stdout",
     "output_type": "stream",
     "text": [
      "Wall time: 19 s\n"
     ]
    },
    {
     "name": "stderr",
     "output_type": "stream",
     "text": [
      "C:\\Users\\irwin\\anaconda3\\envs\\learn-env\\lib\\site-packages\\sklearn\\dummy.py:131: FutureWarning: The default value of strategy will change from stratified to prior in 0.24.\n",
      "  warnings.warn(\"The default value of strategy will change from \"\n"
     ]
    },
    {
     "data": {
      "text/html": [
       "<div>\n",
       "<style scoped>\n",
       "    .dataframe tbody tr th:only-of-type {\n",
       "        vertical-align: middle;\n",
       "    }\n",
       "\n",
       "    .dataframe tbody tr th {\n",
       "        vertical-align: top;\n",
       "    }\n",
       "\n",
       "    .dataframe thead th {\n",
       "        text-align: right;\n",
       "    }\n",
       "</style>\n",
       "<table border=\"1\" class=\"dataframe\">\n",
       "  <thead>\n",
       "    <tr style=\"text-align: right;\">\n",
       "      <th></th>\n",
       "      <th>Model</th>\n",
       "      <th>train_score</th>\n",
       "      <th>test_score</th>\n",
       "      <th>log_loss</th>\n",
       "      <th>params</th>\n",
       "    </tr>\n",
       "  </thead>\n",
       "  <tbody>\n",
       "    <tr>\n",
       "      <th>0</th>\n",
       "      <td>Dummy</td>\n",
       "      <td>0.448238</td>\n",
       "      <td>0.452795</td>\n",
       "      <td>19.103703</td>\n",
       "      <td>None</td>\n",
       "    </tr>\n",
       "  </tbody>\n",
       "</table>\n",
       "</div>"
      ],
      "text/plain": [
       "   Model  train_score  test_score   log_loss params\n",
       "0  Dummy     0.448238    0.452795  19.103703   None"
      ]
     },
     "execution_count": 10,
     "metadata": {},
     "output_type": "execute_result"
    }
   ],
   "source": [
    "%%time\n",
    "#roughly 20s\n",
    "model2.update(dummy, 'Dummy')"
   ]
  },
  {
   "cell_type": "code",
   "execution_count": 11,
   "metadata": {},
   "outputs": [],
   "source": [
    "lgr1 = Pipeline([\n",
    "    ('ct', ct),\n",
    "    ('lg', LogisticRegression(random_state=42, n_jobs=-1))\n",
    "])"
   ]
  },
  {
   "cell_type": "code",
   "execution_count": 12,
   "metadata": {},
   "outputs": [],
   "source": [
    "lgr2 = Pipeline([\n",
    "    ('ct', ct),\n",
    "    ('lg', LogisticRegression(random_state=42, n_jobs=-1))\n",
    "])"
   ]
  },
  {
   "cell_type": "code",
   "execution_count": 13,
   "metadata": {
    "scrolled": true
   },
   "outputs": [
    {
     "name": "stdout",
     "output_type": "stream",
     "text": [
      "Wall time: 44.1 s\n"
     ]
    },
    {
     "data": {
      "text/html": [
       "<div>\n",
       "<style scoped>\n",
       "    .dataframe tbody tr th:only-of-type {\n",
       "        vertical-align: middle;\n",
       "    }\n",
       "\n",
       "    .dataframe tbody tr th {\n",
       "        vertical-align: top;\n",
       "    }\n",
       "\n",
       "    .dataframe thead th {\n",
       "        text-align: right;\n",
       "    }\n",
       "</style>\n",
       "<table border=\"1\" class=\"dataframe\">\n",
       "  <thead>\n",
       "    <tr style=\"text-align: right;\">\n",
       "      <th></th>\n",
       "      <th>Model</th>\n",
       "      <th>train_score</th>\n",
       "      <th>test_score</th>\n",
       "      <th>log_loss</th>\n",
       "      <th>params</th>\n",
       "    </tr>\n",
       "  </thead>\n",
       "  <tbody>\n",
       "    <tr>\n",
       "      <th>0</th>\n",
       "      <td>Dummy</td>\n",
       "      <td>0.447071</td>\n",
       "      <td>0.448283</td>\n",
       "      <td>19.163400</td>\n",
       "      <td>None</td>\n",
       "    </tr>\n",
       "    <tr>\n",
       "      <th>1</th>\n",
       "      <td>LogReg</td>\n",
       "      <td>0.857508</td>\n",
       "      <td>0.776970</td>\n",
       "      <td>0.569989</td>\n",
       "      <td>None</td>\n",
       "    </tr>\n",
       "  </tbody>\n",
       "</table>\n",
       "</div>"
      ],
      "text/plain": [
       "    Model  train_score  test_score   log_loss params\n",
       "0   Dummy     0.447071    0.448283  19.163400   None\n",
       "1  LogReg     0.857508    0.776970   0.569989   None"
      ]
     },
     "execution_count": 13,
     "metadata": {},
     "output_type": "execute_result"
    }
   ],
   "source": [
    "%%time\n",
    "#roughly 50s\n",
    "model1.update(lgr1, 'LogReg')"
   ]
  },
  {
   "cell_type": "code",
   "execution_count": 14,
   "metadata": {
    "scrolled": true
   },
   "outputs": [
    {
     "name": "stdout",
     "output_type": "stream",
     "text": [
      "Wall time: 34.1 s\n"
     ]
    },
    {
     "data": {
      "text/html": [
       "<div>\n",
       "<style scoped>\n",
       "    .dataframe tbody tr th:only-of-type {\n",
       "        vertical-align: middle;\n",
       "    }\n",
       "\n",
       "    .dataframe tbody tr th {\n",
       "        vertical-align: top;\n",
       "    }\n",
       "\n",
       "    .dataframe thead th {\n",
       "        text-align: right;\n",
       "    }\n",
       "</style>\n",
       "<table border=\"1\" class=\"dataframe\">\n",
       "  <thead>\n",
       "    <tr style=\"text-align: right;\">\n",
       "      <th></th>\n",
       "      <th>Model</th>\n",
       "      <th>train_score</th>\n",
       "      <th>test_score</th>\n",
       "      <th>log_loss</th>\n",
       "      <th>params</th>\n",
       "    </tr>\n",
       "  </thead>\n",
       "  <tbody>\n",
       "    <tr>\n",
       "      <th>0</th>\n",
       "      <td>Dummy</td>\n",
       "      <td>0.448238</td>\n",
       "      <td>0.452795</td>\n",
       "      <td>19.103703</td>\n",
       "      <td>None</td>\n",
       "    </tr>\n",
       "    <tr>\n",
       "      <th>1</th>\n",
       "      <td>LogReg</td>\n",
       "      <td>0.809046</td>\n",
       "      <td>0.739327</td>\n",
       "      <td>0.626736</td>\n",
       "      <td>None</td>\n",
       "    </tr>\n",
       "  </tbody>\n",
       "</table>\n",
       "</div>"
      ],
      "text/plain": [
       "    Model  train_score  test_score   log_loss params\n",
       "0   Dummy     0.448238    0.452795  19.103703   None\n",
       "1  LogReg     0.809046    0.739327   0.626736   None"
      ]
     },
     "execution_count": 14,
     "metadata": {},
     "output_type": "execute_result"
    }
   ],
   "source": [
    "%%time\n",
    "#roughly 50s\n",
    "model2.update(lgr2, 'LogReg')"
   ]
  },
  {
   "cell_type": "code",
   "execution_count": 15,
   "metadata": {
    "collapsed": true
   },
   "outputs": [
    {
     "data": {
      "text/plain": [
       "Index(['memory', 'steps', 'verbose', 'ct', 'lg', 'ct__n_jobs', 'ct__remainder',\n",
       "       'ct__sparse_threshold', 'ct__transformer_weights', 'ct__transformers',\n",
       "       'ct__verbose', 'ct__subpipe_num', 'ct__subpipe_cat',\n",
       "       'ct__subpipe_num__memory', 'ct__subpipe_num__steps',\n",
       "       'ct__subpipe_num__verbose', 'ct__subpipe_num__num_impute',\n",
       "       'ct__subpipe_num__ss', 'ct__subpipe_num__num_impute__add_indicator',\n",
       "       'ct__subpipe_num__num_impute__copy',\n",
       "       'ct__subpipe_num__num_impute__fill_value',\n",
       "       'ct__subpipe_num__num_impute__missing_values',\n",
       "       'ct__subpipe_num__num_impute__strategy',\n",
       "       'ct__subpipe_num__num_impute__verbose', 'ct__subpipe_num__ss__copy',\n",
       "       'ct__subpipe_num__ss__with_mean', 'ct__subpipe_num__ss__with_std',\n",
       "       'ct__subpipe_cat__memory', 'ct__subpipe_cat__steps',\n",
       "       'ct__subpipe_cat__verbose', 'ct__subpipe_cat__cat_impute',\n",
       "       'ct__subpipe_cat__ohe', 'ct__subpipe_cat__cat_impute__add_indicator',\n",
       "       'ct__subpipe_cat__cat_impute__copy',\n",
       "       'ct__subpipe_cat__cat_impute__fill_value',\n",
       "       'ct__subpipe_cat__cat_impute__missing_values',\n",
       "       'ct__subpipe_cat__cat_impute__strategy',\n",
       "       'ct__subpipe_cat__cat_impute__verbose',\n",
       "       'ct__subpipe_cat__ohe__categories', 'ct__subpipe_cat__ohe__drop',\n",
       "       'ct__subpipe_cat__ohe__dtype', 'ct__subpipe_cat__ohe__handle_unknown',\n",
       "       'ct__subpipe_cat__ohe__sparse', 'lg__C', 'lg__class_weight', 'lg__dual',\n",
       "       'lg__fit_intercept', 'lg__intercept_scaling', 'lg__l1_ratio',\n",
       "       'lg__max_iter', 'lg__multi_class', 'lg__n_jobs', 'lg__penalty',\n",
       "       'lg__random_state', 'lg__solver', 'lg__tol', 'lg__verbose',\n",
       "       'lg__warm_start'],\n",
       "      dtype='object')"
      ]
     },
     "execution_count": 15,
     "metadata": {},
     "output_type": "execute_result"
    }
   ],
   "source": [
    "pd.DataFrame.from_dict(lgr1.get_params(), orient='index').index"
   ]
  },
  {
   "cell_type": "code",
   "execution_count": 16,
   "metadata": {},
   "outputs": [],
   "source": [
    "params = {\n",
    "    'lg__solver' : ['lbfgs','newton-cg', 'saga'],\n",
    "    'lg__max_iter': [750, 1000, 2000],\n",
    "    'lg__C' : [0.1, 0.5, 1, 5, 10],\n",
    "    'lg__tol' : [0.05, 0.01, 0.1],\n",
    "    'lg__class_weight' : [{'functional': 1, 'non functional': 1, 'functional needs repair': 5},\n",
    "                          {'functional': 1, 'non functional': 1, 'functional needs repair': 2},\n",
    "                          {'functional': 1, 'non functional': 1, 'functional needs repair': 1},\n",
    "                          {'functional': 1, 'non functional': 1, 'functional needs repair': .8}]\n",
    "}\n",
    "#324 candidates x 5 folds = 1620 fits"
   ]
  },
  {
   "cell_type": "code",
   "execution_count": 22,
   "metadata": {},
   "outputs": [],
   "source": [
    "gs1 = GridSearchCV(\n",
    "    estimator= lgr1,\n",
    "    param_grid= params,\n",
    "    cv = 5,\n",
    "    verbose = 2,\n",
    "    n_jobs = -1\n",
    ")"
   ]
  },
  {
   "cell_type": "code",
   "execution_count": 23,
   "metadata": {},
   "outputs": [],
   "source": [
    "gs2 = GridSearchCV(\n",
    "    estimator= lgr2,\n",
    "    param_grid= params,\n",
    "    cv = 5,\n",
    "    verbose = 2,\n",
    "    n_jobs = -1\n",
    ")"
   ]
  },
  {
   "cell_type": "code",
   "execution_count": 24,
   "metadata": {
    "scrolled": true
   },
   "outputs": [
    {
     "name": "stdout",
     "output_type": "stream",
     "text": [
      "Fitting 5 folds for each of 324 candidates, totalling 1620 fits\n"
     ]
    },
    {
     "name": "stderr",
     "output_type": "stream",
     "text": [
      "[Parallel(n_jobs=-1)]: Using backend LokyBackend with 12 concurrent workers.\n",
      "[Parallel(n_jobs=-1)]: Done  17 tasks      | elapsed:   53.9s\n",
      "[Parallel(n_jobs=-1)]: Done 138 tasks      | elapsed:  3.9min\n",
      "[Parallel(n_jobs=-1)]: Done 341 tasks      | elapsed:  8.4min\n",
      "[Parallel(n_jobs=-1)]: Done 624 tasks      | elapsed: 16.1min\n",
      "[Parallel(n_jobs=-1)]: Done 989 tasks      | elapsed: 28.8min\n",
      "[Parallel(n_jobs=-1)]: Done 1434 tasks      | elapsed: 47.1min\n",
      "[Parallel(n_jobs=-1)]: Done 1620 out of 1620 | elapsed: 54.5min finished\n"
     ]
    },
    {
     "name": "stdout",
     "output_type": "stream",
     "text": [
      "Wall time: 54min 52s\n"
     ]
    },
    {
     "data": {
      "text/plain": [
       "GridSearchCV(cv=5,\n",
       "             estimator=Pipeline(steps=[('ct',\n",
       "                                        ColumnTransformer(n_jobs=-1,\n",
       "                                                          remainder='passthrough',\n",
       "                                                          transformers=[('subpipe_num',\n",
       "                                                                         Pipeline(steps=[('num_impute',\n",
       "                                                                                          SimpleImputer(add_indicator=True)),\n",
       "                                                                                         ('ss',\n",
       "                                                                                          StandardScaler())]),\n",
       "                                                                         <sklearn.compose._column_transformer.make_column_selector object at 0x000001E7D7A237C0>),\n",
       "                                                                        ('subpipe_cat',\n",
       "                                                                         Pipeline(steps=[('cat_imput...\n",
       "                         'lg__class_weight': [{'functional': 1,\n",
       "                                               'functional needs repair': 5,\n",
       "                                               'non functional': 1},\n",
       "                                              {'functional': 1,\n",
       "                                               'functional needs repair': 2,\n",
       "                                               'non functional': 1},\n",
       "                                              {'functional': 1,\n",
       "                                               'functional needs repair': 1,\n",
       "                                               'non functional': 1},\n",
       "                                              {'functional': 1,\n",
       "                                               'functional needs repair': 0.8,\n",
       "                                               'non functional': 1}],\n",
       "                         'lg__max_iter': [750, 1000, 2000],\n",
       "                         'lg__solver': ['lbfgs', 'newton-cg', 'saga'],\n",
       "                         'lg__tol': [0.05, 0.01, 0.1]},\n",
       "             verbose=2)"
      ]
     },
     "execution_count": 24,
     "metadata": {},
     "output_type": "execute_result"
    }
   ],
   "source": [
    "%%time\n",
    "#ROUGHLY 1h\n",
    "gs1.fit(model1.xtrain, model1.ytrain)"
   ]
  },
  {
   "cell_type": "code",
   "execution_count": 25,
   "metadata": {
    "scrolled": true
   },
   "outputs": [
    {
     "name": "stdout",
     "output_type": "stream",
     "text": [
      "Fitting 5 folds for each of 324 candidates, totalling 1620 fits\n"
     ]
    },
    {
     "name": "stderr",
     "output_type": "stream",
     "text": [
      "[Parallel(n_jobs=-1)]: Using backend LokyBackend with 12 concurrent workers.\n",
      "[Parallel(n_jobs=-1)]: Done  17 tasks      | elapsed:   26.8s\n",
      "[Parallel(n_jobs=-1)]: Done 138 tasks      | elapsed:  2.1min\n",
      "[Parallel(n_jobs=-1)]: Done 341 tasks      | elapsed:  4.7min\n",
      "[Parallel(n_jobs=-1)]: Done 624 tasks      | elapsed:  8.9min\n",
      "[Parallel(n_jobs=-1)]: Done 989 tasks      | elapsed: 15.7min\n",
      "[Parallel(n_jobs=-1)]: Done 1434 tasks      | elapsed: 25.6min\n",
      "[Parallel(n_jobs=-1)]: Done 1620 out of 1620 | elapsed: 29.5min finished\n"
     ]
    },
    {
     "name": "stdout",
     "output_type": "stream",
     "text": [
      "Wall time: 29min 44s\n"
     ]
    },
    {
     "data": {
      "text/plain": [
       "GridSearchCV(cv=5,\n",
       "             estimator=Pipeline(steps=[('ct',\n",
       "                                        ColumnTransformer(n_jobs=-1,\n",
       "                                                          remainder='passthrough',\n",
       "                                                          transformers=[('subpipe_num',\n",
       "                                                                         Pipeline(steps=[('num_impute',\n",
       "                                                                                          SimpleImputer(add_indicator=True)),\n",
       "                                                                                         ('ss',\n",
       "                                                                                          StandardScaler())]),\n",
       "                                                                         <sklearn.compose._column_transformer.make_column_selector object at 0x000001E7D7A237C0>),\n",
       "                                                                        ('subpipe_cat',\n",
       "                                                                         Pipeline(steps=[('cat_imput...\n",
       "                         'lg__class_weight': [{'functional': 1,\n",
       "                                               'functional needs repair': 5,\n",
       "                                               'non functional': 1},\n",
       "                                              {'functional': 1,\n",
       "                                               'functional needs repair': 2,\n",
       "                                               'non functional': 1},\n",
       "                                              {'functional': 1,\n",
       "                                               'functional needs repair': 1,\n",
       "                                               'non functional': 1},\n",
       "                                              {'functional': 1,\n",
       "                                               'functional needs repair': 0.8,\n",
       "                                               'non functional': 1}],\n",
       "                         'lg__max_iter': [750, 1000, 2000],\n",
       "                         'lg__solver': ['lbfgs', 'newton-cg', 'saga'],\n",
       "                         'lg__tol': [0.05, 0.01, 0.1]},\n",
       "             verbose=2)"
      ]
     },
     "execution_count": 25,
     "metadata": {},
     "output_type": "execute_result"
    }
   ],
   "source": [
    "%%time\n",
    "#ROUGHLY 1h 12:46\n",
    "gs2.fit(model2.xtrain, model2.ytrain)"
   ]
  },
  {
   "cell_type": "code",
   "execution_count": 67,
   "metadata": {},
   "outputs": [
    {
     "data": {
      "text/plain": [
       "{'lg__C': 0.5,\n",
       " 'lg__class_weight': {'functional': 1,\n",
       "  'non functional': 1,\n",
       "  'functional needs repair': 1},\n",
       " 'lg__max_iter': 750,\n",
       " 'lg__solver': 'lbfgs',\n",
       " 'lg__tol': 0.05}"
      ]
     },
     "execution_count": 67,
     "metadata": {},
     "output_type": "execute_result"
    }
   ],
   "source": [
    "gs1best = gs1.best_estimator_\n",
    "gs1bestparam = gs1.best_params_\n",
    "gs1bestparam"
   ]
  },
  {
   "cell_type": "code",
   "execution_count": 66,
   "metadata": {},
   "outputs": [
    {
     "data": {
      "text/plain": [
       "{'lg__C': 0.5,\n",
       " 'lg__class_weight': {'functional': 1,\n",
       "  'non functional': 1,\n",
       "  'functional needs repair': 0.8},\n",
       " 'lg__max_iter': 750,\n",
       " 'lg__solver': 'lbfgs',\n",
       " 'lg__tol': 0.05}"
      ]
     },
     "execution_count": 66,
     "metadata": {},
     "output_type": "execute_result"
    }
   ],
   "source": [
    "gs2best = gs2.best_estimator_\n",
    "gs2bestparam = gs2.best_params_\n",
    "gs2bestparam"
   ]
  },
  {
   "cell_type": "code",
   "execution_count": 27,
   "metadata": {
    "scrolled": false
   },
   "outputs": [
    {
     "name": "stdout",
     "output_type": "stream",
     "text": [
      "Wall time: 1min 39s\n"
     ]
    },
    {
     "data": {
      "text/html": [
       "<div>\n",
       "<style scoped>\n",
       "    .dataframe tbody tr th:only-of-type {\n",
       "        vertical-align: middle;\n",
       "    }\n",
       "\n",
       "    .dataframe tbody tr th {\n",
       "        vertical-align: top;\n",
       "    }\n",
       "\n",
       "    .dataframe thead th {\n",
       "        text-align: right;\n",
       "    }\n",
       "</style>\n",
       "<table border=\"1\" class=\"dataframe\">\n",
       "  <thead>\n",
       "    <tr style=\"text-align: right;\">\n",
       "      <th></th>\n",
       "      <th>Model</th>\n",
       "      <th>train_score</th>\n",
       "      <th>test_score</th>\n",
       "      <th>log_loss</th>\n",
       "      <th>params</th>\n",
       "    </tr>\n",
       "  </thead>\n",
       "  <tbody>\n",
       "    <tr>\n",
       "      <th>0</th>\n",
       "      <td>Dummy</td>\n",
       "      <td>0.447071</td>\n",
       "      <td>0.448283</td>\n",
       "      <td>19.163400</td>\n",
       "      <td>None</td>\n",
       "    </tr>\n",
       "    <tr>\n",
       "      <th>1</th>\n",
       "      <td>LogReg</td>\n",
       "      <td>0.857508</td>\n",
       "      <td>0.776970</td>\n",
       "      <td>0.569989</td>\n",
       "      <td>None</td>\n",
       "    </tr>\n",
       "    <tr>\n",
       "      <th>2</th>\n",
       "      <td>Best LogReg</td>\n",
       "      <td>0.880022</td>\n",
       "      <td>0.782828</td>\n",
       "      <td>0.547607</td>\n",
       "      <td>{'lg__C': 0.5, 'lg__class_weight': {'functiona...</td>\n",
       "    </tr>\n",
       "  </tbody>\n",
       "</table>\n",
       "</div>"
      ],
      "text/plain": [
       "         Model  train_score  test_score   log_loss  \\\n",
       "0        Dummy     0.447071    0.448283  19.163400   \n",
       "1       LogReg     0.857508    0.776970   0.569989   \n",
       "2  Best LogReg     0.880022    0.782828   0.547607   \n",
       "\n",
       "                                              params  \n",
       "0                                               None  \n",
       "1                                               None  \n",
       "2  {'lg__C': 0.5, 'lg__class_weight': {'functiona...  "
      ]
     },
     "execution_count": 27,
     "metadata": {},
     "output_type": "execute_result"
    }
   ],
   "source": [
    "%%time\n",
    "#roughly 1m\n",
    "model1.update(gs1best, 'Best LogReg', False, gs1bestparam)"
   ]
  },
  {
   "cell_type": "code",
   "execution_count": 28,
   "metadata": {},
   "outputs": [
    {
     "name": "stdout",
     "output_type": "stream",
     "text": [
      "Wall time: 59.6 s\n"
     ]
    },
    {
     "data": {
      "text/html": [
       "<div>\n",
       "<style scoped>\n",
       "    .dataframe tbody tr th:only-of-type {\n",
       "        vertical-align: middle;\n",
       "    }\n",
       "\n",
       "    .dataframe tbody tr th {\n",
       "        vertical-align: top;\n",
       "    }\n",
       "\n",
       "    .dataframe thead th {\n",
       "        text-align: right;\n",
       "    }\n",
       "</style>\n",
       "<table border=\"1\" class=\"dataframe\">\n",
       "  <thead>\n",
       "    <tr style=\"text-align: right;\">\n",
       "      <th></th>\n",
       "      <th>Model</th>\n",
       "      <th>train_score</th>\n",
       "      <th>test_score</th>\n",
       "      <th>log_loss</th>\n",
       "      <th>params</th>\n",
       "    </tr>\n",
       "  </thead>\n",
       "  <tbody>\n",
       "    <tr>\n",
       "      <th>0</th>\n",
       "      <td>Dummy</td>\n",
       "      <td>0.448238</td>\n",
       "      <td>0.452795</td>\n",
       "      <td>19.103703</td>\n",
       "      <td>None</td>\n",
       "    </tr>\n",
       "    <tr>\n",
       "      <th>1</th>\n",
       "      <td>LogReg</td>\n",
       "      <td>0.809046</td>\n",
       "      <td>0.739327</td>\n",
       "      <td>0.626736</td>\n",
       "      <td>None</td>\n",
       "    </tr>\n",
       "    <tr>\n",
       "      <th>2</th>\n",
       "      <td>Best LogReg</td>\n",
       "      <td>0.815309</td>\n",
       "      <td>0.746599</td>\n",
       "      <td>0.614127</td>\n",
       "      <td>{'lg__C': 0.5, 'lg__class_weight': {'functiona...</td>\n",
       "    </tr>\n",
       "  </tbody>\n",
       "</table>\n",
       "</div>"
      ],
      "text/plain": [
       "         Model  train_score  test_score   log_loss  \\\n",
       "0        Dummy     0.448238    0.452795  19.103703   \n",
       "1       LogReg     0.809046    0.739327   0.626736   \n",
       "2  Best LogReg     0.815309    0.746599   0.614127   \n",
       "\n",
       "                                              params  \n",
       "0                                               None  \n",
       "1                                               None  \n",
       "2  {'lg__C': 0.5, 'lg__class_weight': {'functiona...  "
      ]
     },
     "execution_count": 28,
     "metadata": {},
     "output_type": "execute_result"
    }
   ],
   "source": [
    "%%time\n",
    "#roughly 1m\n",
    "model2.update(gs2best, 'Best LogReg', False, gs2bestparam)"
   ]
  },
  {
   "cell_type": "code",
   "execution_count": 29,
   "metadata": {},
   "outputs": [],
   "source": [
    "imbpipe1 = ImPipeline([\n",
    "    ('ct', ct),\n",
    "    ('sm', SMOTE(random_state = 42, n_jobs =-1)),\n",
    "    ('gs_best', LogisticRegression(random_state = 42, \n",
    "                                   C = gs1bestparam['lg__C'], \n",
    "                                   max_iter = gs1bestparam['lg__max_iter'], \n",
    "                                   solver = gs1bestparam['lg__solver'],\n",
    "                                   tol = gs1bestparam['lg__tol'],\n",
    "                                   class_weight = gs1bestparam['lg__class_weight'],\n",
    "                                   n_jobs=-1))\n",
    "])"
   ]
  },
  {
   "cell_type": "code",
   "execution_count": 30,
   "metadata": {},
   "outputs": [],
   "source": [
    "imbpipe2 = ImPipeline([\n",
    "    ('ct', ct),\n",
    "    ('sm', SMOTE(random_state = 42, n_jobs =-1)),\n",
    "    ('gs_best', LogisticRegression(random_state = 42, \n",
    "                                   C = gs2bestparam['lg__C'], \n",
    "                                   max_iter = gs2bestparam['lg__max_iter'], \n",
    "                                   solver = gs2bestparam['lg__solver'],\n",
    "                                   tol = gs2bestparam['lg__tol'],\n",
    "                                   class_weight = gs2bestparam['lg__class_weight'],\n",
    "                                   n_jobs=-1))\n",
    "])"
   ]
  },
  {
   "cell_type": "code",
   "execution_count": 31,
   "metadata": {
    "scrolled": false
   },
   "outputs": [
    {
     "name": "stdout",
     "output_type": "stream",
     "text": [
      "Wall time: 4min 5s\n"
     ]
    },
    {
     "data": {
      "text/html": [
       "<div>\n",
       "<style scoped>\n",
       "    .dataframe tbody tr th:only-of-type {\n",
       "        vertical-align: middle;\n",
       "    }\n",
       "\n",
       "    .dataframe tbody tr th {\n",
       "        vertical-align: top;\n",
       "    }\n",
       "\n",
       "    .dataframe thead th {\n",
       "        text-align: right;\n",
       "    }\n",
       "</style>\n",
       "<table border=\"1\" class=\"dataframe\">\n",
       "  <thead>\n",
       "    <tr style=\"text-align: right;\">\n",
       "      <th></th>\n",
       "      <th>Model</th>\n",
       "      <th>train_score</th>\n",
       "      <th>test_score</th>\n",
       "      <th>log_loss</th>\n",
       "      <th>params</th>\n",
       "    </tr>\n",
       "  </thead>\n",
       "  <tbody>\n",
       "    <tr>\n",
       "      <th>0</th>\n",
       "      <td>Dummy</td>\n",
       "      <td>0.447071</td>\n",
       "      <td>0.448283</td>\n",
       "      <td>19.163400</td>\n",
       "      <td>None</td>\n",
       "    </tr>\n",
       "    <tr>\n",
       "      <th>1</th>\n",
       "      <td>LogReg</td>\n",
       "      <td>0.857508</td>\n",
       "      <td>0.776970</td>\n",
       "      <td>0.569989</td>\n",
       "      <td>None</td>\n",
       "    </tr>\n",
       "    <tr>\n",
       "      <th>2</th>\n",
       "      <td>Best LogReg</td>\n",
       "      <td>0.880022</td>\n",
       "      <td>0.782828</td>\n",
       "      <td>0.547607</td>\n",
       "      <td>{'lg__C': 0.5, 'lg__class_weight': {'functiona...</td>\n",
       "    </tr>\n",
       "    <tr>\n",
       "      <th>3</th>\n",
       "      <td>Smote with Best LogReg</td>\n",
       "      <td>0.890640</td>\n",
       "      <td>0.754411</td>\n",
       "      <td>0.596532</td>\n",
       "      <td>{'lg__C': 0.5, 'lg__class_weight': {'functiona...</td>\n",
       "    </tr>\n",
       "  </tbody>\n",
       "</table>\n",
       "</div>"
      ],
      "text/plain": [
       "                    Model  train_score  test_score   log_loss  \\\n",
       "0                   Dummy     0.447071    0.448283  19.163400   \n",
       "1                  LogReg     0.857508    0.776970   0.569989   \n",
       "2             Best LogReg     0.880022    0.782828   0.547607   \n",
       "3  Smote with Best LogReg     0.890640    0.754411   0.596532   \n",
       "\n",
       "                                              params  \n",
       "0                                               None  \n",
       "1                                               None  \n",
       "2  {'lg__C': 0.5, 'lg__class_weight': {'functiona...  \n",
       "3  {'lg__C': 0.5, 'lg__class_weight': {'functiona...  "
      ]
     },
     "execution_count": 31,
     "metadata": {},
     "output_type": "execute_result"
    }
   ],
   "source": [
    "%%time\n",
    "#roughly 5m\n",
    "model1.update(imbpipe1, 'Smote with Best LogReg', True, gs1bestparam)"
   ]
  },
  {
   "cell_type": "code",
   "execution_count": 32,
   "metadata": {},
   "outputs": [
    {
     "name": "stdout",
     "output_type": "stream",
     "text": [
      "Wall time: 2min 55s\n"
     ]
    },
    {
     "data": {
      "text/html": [
       "<div>\n",
       "<style scoped>\n",
       "    .dataframe tbody tr th:only-of-type {\n",
       "        vertical-align: middle;\n",
       "    }\n",
       "\n",
       "    .dataframe tbody tr th {\n",
       "        vertical-align: top;\n",
       "    }\n",
       "\n",
       "    .dataframe thead th {\n",
       "        text-align: right;\n",
       "    }\n",
       "</style>\n",
       "<table border=\"1\" class=\"dataframe\">\n",
       "  <thead>\n",
       "    <tr style=\"text-align: right;\">\n",
       "      <th></th>\n",
       "      <th>Model</th>\n",
       "      <th>train_score</th>\n",
       "      <th>test_score</th>\n",
       "      <th>log_loss</th>\n",
       "      <th>params</th>\n",
       "    </tr>\n",
       "  </thead>\n",
       "  <tbody>\n",
       "    <tr>\n",
       "      <th>0</th>\n",
       "      <td>Dummy</td>\n",
       "      <td>0.448238</td>\n",
       "      <td>0.452795</td>\n",
       "      <td>19.103703</td>\n",
       "      <td>None</td>\n",
       "    </tr>\n",
       "    <tr>\n",
       "      <th>1</th>\n",
       "      <td>LogReg</td>\n",
       "      <td>0.809046</td>\n",
       "      <td>0.739327</td>\n",
       "      <td>0.626736</td>\n",
       "      <td>None</td>\n",
       "    </tr>\n",
       "    <tr>\n",
       "      <th>2</th>\n",
       "      <td>Best LogReg</td>\n",
       "      <td>0.815309</td>\n",
       "      <td>0.746599</td>\n",
       "      <td>0.614127</td>\n",
       "      <td>{'lg__C': 0.5, 'lg__class_weight': {'functiona...</td>\n",
       "    </tr>\n",
       "    <tr>\n",
       "      <th>3</th>\n",
       "      <td>Smote with Best LogReg</td>\n",
       "      <td>0.809630</td>\n",
       "      <td>0.710640</td>\n",
       "      <td>0.675548</td>\n",
       "      <td>{'lg__C': 0.5, 'lg__class_weight': {'functiona...</td>\n",
       "    </tr>\n",
       "  </tbody>\n",
       "</table>\n",
       "</div>"
      ],
      "text/plain": [
       "                    Model  train_score  test_score   log_loss  \\\n",
       "0                   Dummy     0.448238    0.452795  19.103703   \n",
       "1                  LogReg     0.809046    0.739327   0.626736   \n",
       "2             Best LogReg     0.815309    0.746599   0.614127   \n",
       "3  Smote with Best LogReg     0.809630    0.710640   0.675548   \n",
       "\n",
       "                                              params  \n",
       "0                                               None  \n",
       "1                                               None  \n",
       "2  {'lg__C': 0.5, 'lg__class_weight': {'functiona...  \n",
       "3  {'lg__C': 0.5, 'lg__class_weight': {'functiona...  "
      ]
     },
     "execution_count": 32,
     "metadata": {},
     "output_type": "execute_result"
    }
   ],
   "source": [
    "%%time\n",
    "#roughly 5m\n",
    "model2.update(imbpipe2, 'Smote with Best LogReg', True, gs2bestparam)"
   ]
  },
  {
   "cell_type": "code",
   "execution_count": 33,
   "metadata": {
    "collapsed": true
   },
   "outputs": [
    {
     "data": {
      "text/plain": [
       "Index(['memory', 'steps', 'verbose', 'ct', 'sm', 'gs_best', 'ct__n_jobs',\n",
       "       'ct__remainder', 'ct__sparse_threshold', 'ct__transformer_weights',\n",
       "       'ct__transformers', 'ct__verbose', 'ct__subpipe_num', 'ct__subpipe_cat',\n",
       "       'ct__subpipe_num__memory', 'ct__subpipe_num__steps',\n",
       "       'ct__subpipe_num__verbose', 'ct__subpipe_num__num_impute',\n",
       "       'ct__subpipe_num__ss', 'ct__subpipe_num__num_impute__add_indicator',\n",
       "       'ct__subpipe_num__num_impute__copy',\n",
       "       'ct__subpipe_num__num_impute__fill_value',\n",
       "       'ct__subpipe_num__num_impute__missing_values',\n",
       "       'ct__subpipe_num__num_impute__strategy',\n",
       "       'ct__subpipe_num__num_impute__verbose', 'ct__subpipe_num__ss__copy',\n",
       "       'ct__subpipe_num__ss__with_mean', 'ct__subpipe_num__ss__with_std',\n",
       "       'ct__subpipe_cat__memory', 'ct__subpipe_cat__steps',\n",
       "       'ct__subpipe_cat__verbose', 'ct__subpipe_cat__cat_impute',\n",
       "       'ct__subpipe_cat__ohe', 'ct__subpipe_cat__cat_impute__add_indicator',\n",
       "       'ct__subpipe_cat__cat_impute__copy',\n",
       "       'ct__subpipe_cat__cat_impute__fill_value',\n",
       "       'ct__subpipe_cat__cat_impute__missing_values',\n",
       "       'ct__subpipe_cat__cat_impute__strategy',\n",
       "       'ct__subpipe_cat__cat_impute__verbose',\n",
       "       'ct__subpipe_cat__ohe__categories', 'ct__subpipe_cat__ohe__drop',\n",
       "       'ct__subpipe_cat__ohe__dtype', 'ct__subpipe_cat__ohe__handle_unknown',\n",
       "       'ct__subpipe_cat__ohe__sparse', 'sm__k_neighbors', 'sm__n_jobs',\n",
       "       'sm__random_state', 'sm__sampling_strategy', 'gs_best__C',\n",
       "       'gs_best__class_weight', 'gs_best__dual', 'gs_best__fit_intercept',\n",
       "       'gs_best__intercept_scaling', 'gs_best__l1_ratio', 'gs_best__max_iter',\n",
       "       'gs_best__multi_class', 'gs_best__n_jobs', 'gs_best__penalty',\n",
       "       'gs_best__random_state', 'gs_best__solver', 'gs_best__tol',\n",
       "       'gs_best__verbose', 'gs_best__warm_start'],\n",
       "      dtype='object')"
      ]
     },
     "execution_count": 33,
     "metadata": {},
     "output_type": "execute_result"
    }
   ],
   "source": [
    "pd.DataFrame.from_dict(imbpipe1.get_params(), orient='index').index"
   ]
  },
  {
   "cell_type": "code",
   "execution_count": 34,
   "metadata": {},
   "outputs": [],
   "source": [
    "params = {\n",
    "    'sm__sampling_strategy' : ['minority', 'not majority', 'all'],\n",
    "    'sm__k_neighbors': [5,10,15]\n",
    "}\n",
    "#6 candidiates x 5 folds = 30 fits"
   ]
  },
  {
   "cell_type": "code",
   "execution_count": 35,
   "metadata": {},
   "outputs": [],
   "source": [
    "smote_gs1 = GridSearchCV(\n",
    "    estimator= imbpipe1,\n",
    "    param_grid= params,\n",
    "    cv =5,\n",
    "    verbose = 2,\n",
    "    n_jobs = -1\n",
    ")"
   ]
  },
  {
   "cell_type": "code",
   "execution_count": 36,
   "metadata": {},
   "outputs": [],
   "source": [
    "smote_gs2 = GridSearchCV(\n",
    "    estimator= imbpipe2,\n",
    "    param_grid= params,\n",
    "    cv =5,\n",
    "    verbose = 2,\n",
    "    n_jobs = -1\n",
    ")"
   ]
  },
  {
   "cell_type": "code",
   "execution_count": 37,
   "metadata": {
    "scrolled": false
   },
   "outputs": [
    {
     "name": "stdout",
     "output_type": "stream",
     "text": [
      "Fitting 5 folds for each of 6 candidates, totalling 30 fits\n"
     ]
    },
    {
     "name": "stderr",
     "output_type": "stream",
     "text": [
      "[Parallel(n_jobs=-1)]: Using backend LokyBackend with 12 concurrent workers.\n",
      "[Parallel(n_jobs=-1)]: Done  23 out of  30 | elapsed:  3.0min remaining:   55.0s\n",
      "[Parallel(n_jobs=-1)]: Done  30 out of  30 | elapsed:  3.5min finished\n"
     ]
    },
    {
     "name": "stdout",
     "output_type": "stream",
     "text": [
      "Wall time: 4min 4s\n"
     ]
    },
    {
     "data": {
      "text/plain": [
       "GridSearchCV(cv=5,\n",
       "             estimator=Pipeline(steps=[('ct',\n",
       "                                        ColumnTransformer(n_jobs=-1,\n",
       "                                                          remainder='passthrough',\n",
       "                                                          transformers=[('subpipe_num',\n",
       "                                                                         Pipeline(steps=[('num_impute',\n",
       "                                                                                          SimpleImputer(add_indicator=True)),\n",
       "                                                                                         ('ss',\n",
       "                                                                                          StandardScaler())]),\n",
       "                                                                         <sklearn.compose._column_transformer.make_column_selector object at 0x000001E7D7A237C0>),\n",
       "                                                                        ('subpipe_cat',\n",
       "                                                                         Pipeline(steps=[('cat_imput...\n",
       "                                                                         <sklearn.compose._column_transformer.make_column_selector object at 0x000001E7D7A23AC0>)])),\n",
       "                                       ('sm',\n",
       "                                        SMOTE(n_jobs=-1, random_state=42)),\n",
       "                                       ('gs_best',\n",
       "                                        LogisticRegression(C=0.5,\n",
       "                                                           class_weight={'functional': 1,\n",
       "                                                                         'functional needs repair': 1,\n",
       "                                                                         'non functional': 1},\n",
       "                                                           max_iter=750,\n",
       "                                                           n_jobs=-1,\n",
       "                                                           random_state=42,\n",
       "                                                           tol=0.05))]),\n",
       "             n_jobs=-1,\n",
       "             param_grid={'sm__k_neighbors': [5, 10],\n",
       "                         'sm__sampling_strategy': ['minority', 'not majority',\n",
       "                                                   'all']},\n",
       "             verbose=2)"
      ]
     },
     "execution_count": 37,
     "metadata": {},
     "output_type": "execute_result"
    }
   ],
   "source": [
    "%%time\n",
    "#roughly 2hr\n",
    "smote_gs1.fit(model1.xtrain,model1.ytrain)"
   ]
  },
  {
   "cell_type": "code",
   "execution_count": 38,
   "metadata": {},
   "outputs": [
    {
     "name": "stdout",
     "output_type": "stream",
     "text": [
      "Fitting 5 folds for each of 6 candidates, totalling 30 fits\n"
     ]
    },
    {
     "name": "stderr",
     "output_type": "stream",
     "text": [
      "[Parallel(n_jobs=-1)]: Using backend LokyBackend with 12 concurrent workers.\n",
      "[Parallel(n_jobs=-1)]: Done  23 out of  30 | elapsed:  1.8min remaining:   33.4s\n",
      "[Parallel(n_jobs=-1)]: Done  30 out of  30 | elapsed:  2.1min finished\n"
     ]
    },
    {
     "name": "stdout",
     "output_type": "stream",
     "text": [
      "Wall time: 2min 27s\n"
     ]
    },
    {
     "data": {
      "text/plain": [
       "GridSearchCV(cv=5,\n",
       "             estimator=Pipeline(steps=[('ct',\n",
       "                                        ColumnTransformer(n_jobs=-1,\n",
       "                                                          remainder='passthrough',\n",
       "                                                          transformers=[('subpipe_num',\n",
       "                                                                         Pipeline(steps=[('num_impute',\n",
       "                                                                                          SimpleImputer(add_indicator=True)),\n",
       "                                                                                         ('ss',\n",
       "                                                                                          StandardScaler())]),\n",
       "                                                                         <sklearn.compose._column_transformer.make_column_selector object at 0x000001E7D7A237C0>),\n",
       "                                                                        ('subpipe_cat',\n",
       "                                                                         Pipeline(steps=[('cat_imput...\n",
       "                                                                         <sklearn.compose._column_transformer.make_column_selector object at 0x000001E7D7A23AC0>)])),\n",
       "                                       ('sm',\n",
       "                                        SMOTE(n_jobs=-1, random_state=42)),\n",
       "                                       ('gs_best',\n",
       "                                        LogisticRegression(C=0.5,\n",
       "                                                           class_weight={'functional': 1,\n",
       "                                                                         'functional needs repair': 0.8,\n",
       "                                                                         'non functional': 1},\n",
       "                                                           max_iter=750,\n",
       "                                                           n_jobs=-1,\n",
       "                                                           random_state=42,\n",
       "                                                           tol=0.05))]),\n",
       "             n_jobs=-1,\n",
       "             param_grid={'sm__k_neighbors': [5, 10],\n",
       "                         'sm__sampling_strategy': ['minority', 'not majority',\n",
       "                                                   'all']},\n",
       "             verbose=2)"
      ]
     },
     "execution_count": 38,
     "metadata": {},
     "output_type": "execute_result"
    }
   ],
   "source": [
    "%%time\n",
    "#roughly 2hr\n",
    "smote_gs2.fit(model2.xtrain,model2.ytrain)"
   ]
  },
  {
   "cell_type": "code",
   "execution_count": 39,
   "metadata": {},
   "outputs": [],
   "source": [
    "smote_gs1best = smote_gs1.best_estimator_\n",
    "smote_gs2best = smote_gs2.best_estimator_\n",
    "\n",
    "smote_gs1bestparam = smote_gs1.best_params_\n",
    "smote_gs2bestparam = smote_gs2.best_params_"
   ]
  },
  {
   "cell_type": "code",
   "execution_count": 40,
   "metadata": {},
   "outputs": [
    {
     "name": "stdout",
     "output_type": "stream",
     "text": [
      "Wall time: 2min 29s\n"
     ]
    },
    {
     "data": {
      "text/html": [
       "<div>\n",
       "<style scoped>\n",
       "    .dataframe tbody tr th:only-of-type {\n",
       "        vertical-align: middle;\n",
       "    }\n",
       "\n",
       "    .dataframe tbody tr th {\n",
       "        vertical-align: top;\n",
       "    }\n",
       "\n",
       "    .dataframe thead th {\n",
       "        text-align: right;\n",
       "    }\n",
       "</style>\n",
       "<table border=\"1\" class=\"dataframe\">\n",
       "  <thead>\n",
       "    <tr style=\"text-align: right;\">\n",
       "      <th></th>\n",
       "      <th>Model</th>\n",
       "      <th>train_score</th>\n",
       "      <th>test_score</th>\n",
       "      <th>log_loss</th>\n",
       "      <th>params</th>\n",
       "    </tr>\n",
       "  </thead>\n",
       "  <tbody>\n",
       "    <tr>\n",
       "      <th>0</th>\n",
       "      <td>Dummy</td>\n",
       "      <td>0.447071</td>\n",
       "      <td>0.448283</td>\n",
       "      <td>19.163400</td>\n",
       "      <td>None</td>\n",
       "    </tr>\n",
       "    <tr>\n",
       "      <th>1</th>\n",
       "      <td>LogReg</td>\n",
       "      <td>0.857508</td>\n",
       "      <td>0.776970</td>\n",
       "      <td>0.569989</td>\n",
       "      <td>None</td>\n",
       "    </tr>\n",
       "    <tr>\n",
       "      <th>2</th>\n",
       "      <td>Best LogReg</td>\n",
       "      <td>0.880022</td>\n",
       "      <td>0.782828</td>\n",
       "      <td>0.547607</td>\n",
       "      <td>{'lg__C': 0.5, 'lg__class_weight': {'functiona...</td>\n",
       "    </tr>\n",
       "    <tr>\n",
       "      <th>3</th>\n",
       "      <td>Smote with Best LogReg</td>\n",
       "      <td>0.890640</td>\n",
       "      <td>0.754411</td>\n",
       "      <td>0.596532</td>\n",
       "      <td>{'lg__C': 0.5, 'lg__class_weight': {'functiona...</td>\n",
       "    </tr>\n",
       "    <tr>\n",
       "      <th>4</th>\n",
       "      <td>Best Smote + LogReg</td>\n",
       "      <td>0.880337</td>\n",
       "      <td>0.753535</td>\n",
       "      <td>0.597584</td>\n",
       "      <td>{'sm__k_neighbors': 5, 'sm__sampling_strategy'...</td>\n",
       "    </tr>\n",
       "  </tbody>\n",
       "</table>\n",
       "</div>"
      ],
      "text/plain": [
       "                    Model  train_score  test_score   log_loss  \\\n",
       "0                   Dummy     0.447071    0.448283  19.163400   \n",
       "1                  LogReg     0.857508    0.776970   0.569989   \n",
       "2             Best LogReg     0.880022    0.782828   0.547607   \n",
       "3  Smote with Best LogReg     0.890640    0.754411   0.596532   \n",
       "4     Best Smote + LogReg     0.880337    0.753535   0.597584   \n",
       "\n",
       "                                              params  \n",
       "0                                               None  \n",
       "1                                               None  \n",
       "2  {'lg__C': 0.5, 'lg__class_weight': {'functiona...  \n",
       "3  {'lg__C': 0.5, 'lg__class_weight': {'functiona...  \n",
       "4  {'sm__k_neighbors': 5, 'sm__sampling_strategy'...  "
      ]
     },
     "execution_count": 40,
     "metadata": {},
     "output_type": "execute_result"
    }
   ],
   "source": [
    "%%time\n",
    "# roughly 1m\n",
    "model1.update(smote_gs1best, 'Best Smote + LogReg', False, smote_gs1bestparam)"
   ]
  },
  {
   "cell_type": "code",
   "execution_count": 41,
   "metadata": {
    "collapsed": true
   },
   "outputs": [
    {
     "name": "stdout",
     "output_type": "stream",
     "text": [
      "Wall time: 1min 34s\n"
     ]
    },
    {
     "data": {
      "text/html": [
       "<div>\n",
       "<style scoped>\n",
       "    .dataframe tbody tr th:only-of-type {\n",
       "        vertical-align: middle;\n",
       "    }\n",
       "\n",
       "    .dataframe tbody tr th {\n",
       "        vertical-align: top;\n",
       "    }\n",
       "\n",
       "    .dataframe thead th {\n",
       "        text-align: right;\n",
       "    }\n",
       "</style>\n",
       "<table border=\"1\" class=\"dataframe\">\n",
       "  <thead>\n",
       "    <tr style=\"text-align: right;\">\n",
       "      <th></th>\n",
       "      <th>Model</th>\n",
       "      <th>train_score</th>\n",
       "      <th>test_score</th>\n",
       "      <th>log_loss</th>\n",
       "      <th>params</th>\n",
       "    </tr>\n",
       "  </thead>\n",
       "  <tbody>\n",
       "    <tr>\n",
       "      <th>0</th>\n",
       "      <td>Dummy</td>\n",
       "      <td>0.448238</td>\n",
       "      <td>0.452795</td>\n",
       "      <td>19.103703</td>\n",
       "      <td>None</td>\n",
       "    </tr>\n",
       "    <tr>\n",
       "      <th>1</th>\n",
       "      <td>LogReg</td>\n",
       "      <td>0.809046</td>\n",
       "      <td>0.739327</td>\n",
       "      <td>0.626736</td>\n",
       "      <td>None</td>\n",
       "    </tr>\n",
       "    <tr>\n",
       "      <th>2</th>\n",
       "      <td>Best LogReg</td>\n",
       "      <td>0.815309</td>\n",
       "      <td>0.746599</td>\n",
       "      <td>0.614127</td>\n",
       "      <td>{'lg__C': 0.5, 'lg__class_weight': {'functiona...</td>\n",
       "    </tr>\n",
       "    <tr>\n",
       "      <th>3</th>\n",
       "      <td>Smote with Best LogReg</td>\n",
       "      <td>0.809630</td>\n",
       "      <td>0.710640</td>\n",
       "      <td>0.675548</td>\n",
       "      <td>{'lg__C': 0.5, 'lg__class_weight': {'functiona...</td>\n",
       "    </tr>\n",
       "    <tr>\n",
       "      <th>4</th>\n",
       "      <td>Best Smote + LogReg</td>\n",
       "      <td>0.804422</td>\n",
       "      <td>0.714613</td>\n",
       "      <td>0.675617</td>\n",
       "      <td>{'sm__k_neighbors': 10, 'sm__sampling_strategy...</td>\n",
       "    </tr>\n",
       "  </tbody>\n",
       "</table>\n",
       "</div>"
      ],
      "text/plain": [
       "                    Model  train_score  test_score   log_loss  \\\n",
       "0                   Dummy     0.448238    0.452795  19.103703   \n",
       "1                  LogReg     0.809046    0.739327   0.626736   \n",
       "2             Best LogReg     0.815309    0.746599   0.614127   \n",
       "3  Smote with Best LogReg     0.809630    0.710640   0.675548   \n",
       "4     Best Smote + LogReg     0.804422    0.714613   0.675617   \n",
       "\n",
       "                                              params  \n",
       "0                                               None  \n",
       "1                                               None  \n",
       "2  {'lg__C': 0.5, 'lg__class_weight': {'functiona...  \n",
       "3  {'lg__C': 0.5, 'lg__class_weight': {'functiona...  \n",
       "4  {'sm__k_neighbors': 10, 'sm__sampling_strategy...  "
      ]
     },
     "execution_count": 41,
     "metadata": {},
     "output_type": "execute_result"
    }
   ],
   "source": [
    "%%time\n",
    "# roughly 1m\n",
    "model2.update(smote_gs2best, 'Best Smote + LogReg', False, smote_gs2bestparam)"
   ]
  },
  {
   "cell_type": "code",
   "execution_count": 42,
   "metadata": {
    "collapsed": true
   },
   "outputs": [
    {
     "name": "stdout",
     "output_type": "stream",
     "text": [
      "Classification Report for 'Dummy':\n",
      "                \n",
      "            \n",
      "                         precision    recall  f1-score   support\n",
      "\n",
      "             functional       0.55      0.55      0.55      8098\n",
      "functional needs repair       0.07      0.07      0.07      1074\n",
      "         non functional       0.38      0.38      0.38      5678\n",
      "\n",
      "               accuracy                           0.45     14850\n",
      "              macro avg       0.33      0.33      0.33     14850\n",
      "           weighted avg       0.45      0.45      0.45     14850\n",
      "\n",
      "Classification Report for 'LogReg':\n",
      "                \n",
      "            \n",
      "                         precision    recall  f1-score   support\n",
      "\n",
      "             functional       0.78      0.87      0.82      8098\n",
      "functional needs repair       0.53      0.28      0.37      1074\n",
      "         non functional       0.79      0.74      0.77      5678\n",
      "\n",
      "               accuracy                           0.78     14850\n",
      "              macro avg       0.70      0.63      0.65     14850\n",
      "           weighted avg       0.77      0.78      0.77     14850\n",
      "\n",
      "Classification Report for 'Best LogReg':\n",
      "                \n",
      "            \n",
      "                         precision    recall  f1-score   support\n",
      "\n",
      "             functional       0.78      0.88      0.83      8098\n",
      "functional needs repair       0.57      0.25      0.35      1074\n",
      "         non functional       0.81      0.74      0.77      5678\n",
      "\n",
      "               accuracy                           0.78     14850\n",
      "              macro avg       0.72      0.62      0.65     14850\n",
      "           weighted avg       0.78      0.78      0.77     14850\n",
      "\n",
      "Classification Report for 'Smote with Best LogReg':\n",
      "                \n",
      "            \n",
      "                         precision    recall  f1-score   support\n",
      "\n",
      "             functional       0.82      0.79      0.80      8098\n",
      "functional needs repair       0.34      0.54      0.42      1074\n",
      "         non functional       0.80      0.75      0.77      5678\n",
      "\n",
      "               accuracy                           0.75     14850\n",
      "              macro avg       0.65      0.69      0.66     14850\n",
      "           weighted avg       0.77      0.75      0.76     14850\n",
      "\n",
      "Classification Report for 'Best Smote + LogReg':\n",
      "                \n",
      "            \n",
      "                         precision    recall  f1-score   support\n",
      "\n",
      "             functional       0.80      0.81      0.81      8098\n",
      "functional needs repair       0.33      0.55      0.41      1074\n",
      "         non functional       0.83      0.71      0.76      5678\n",
      "\n",
      "               accuracy                           0.75     14850\n",
      "              macro avg       0.65      0.69      0.66     14850\n",
      "           weighted avg       0.78      0.75      0.76     14850\n",
      "\n"
     ]
    }
   ],
   "source": [
    "model1.class_report()"
   ]
  },
  {
   "cell_type": "code",
   "execution_count": 43,
   "metadata": {
    "collapsed": true
   },
   "outputs": [
    {
     "name": "stdout",
     "output_type": "stream",
     "text": [
      "Classification Report for 'Dummy':\n",
      "                0.44873 ± 0.00399 accuracy\n",
      "            \n",
      "Classification Report for 'LogReg':\n",
      "                0.77241 ± 0.00375 accuracy\n",
      "            \n",
      "Classification Report for 'Best LogReg':\n",
      "                0.77829 ± 0.00321 accuracy\n",
      "            \n",
      "Classification Report for 'Smote with Best LogReg':\n",
      "                0.75010 ± 0.00413 accuracy\n",
      "            \n",
      "Classification Report for 'Best Smote + LogReg':\n",
      "                0.75154 ± 0.00472 accuracy\n",
      "            \n"
     ]
    }
   ],
   "source": [
    "model1.cv_summary()"
   ]
  },
  {
   "cell_type": "code",
   "execution_count": 98,
   "metadata": {
    "scrolled": true
   },
   "outputs": [
    {
     "data": {
      "text/html": [
       "<div>\n",
       "<style scoped>\n",
       "    .dataframe tbody tr th:only-of-type {\n",
       "        vertical-align: middle;\n",
       "    }\n",
       "\n",
       "    .dataframe tbody tr th {\n",
       "        vertical-align: top;\n",
       "    }\n",
       "\n",
       "    .dataframe thead th {\n",
       "        text-align: right;\n",
       "    }\n",
       "</style>\n",
       "<table border=\"1\" class=\"dataframe\">\n",
       "  <thead>\n",
       "    <tr style=\"text-align: right;\">\n",
       "      <th></th>\n",
       "      <th>Model</th>\n",
       "      <th>train_score</th>\n",
       "      <th>test_score</th>\n",
       "      <th>log_loss</th>\n",
       "      <th>params</th>\n",
       "    </tr>\n",
       "  </thead>\n",
       "  <tbody>\n",
       "    <tr>\n",
       "      <th>0</th>\n",
       "      <td>Dummy</td>\n",
       "      <td>0.447071</td>\n",
       "      <td>0.448283</td>\n",
       "      <td>19.163400</td>\n",
       "      <td>None</td>\n",
       "    </tr>\n",
       "    <tr>\n",
       "      <th>1</th>\n",
       "      <td>LogReg</td>\n",
       "      <td>0.857508</td>\n",
       "      <td>0.776970</td>\n",
       "      <td>0.569989</td>\n",
       "      <td>None</td>\n",
       "    </tr>\n",
       "    <tr>\n",
       "      <th>2</th>\n",
       "      <td>Best LogReg</td>\n",
       "      <td>0.880022</td>\n",
       "      <td>0.782828</td>\n",
       "      <td>0.547607</td>\n",
       "      <td>{'lg__C': 0.5, 'lg__class_weight': {'functiona...</td>\n",
       "    </tr>\n",
       "    <tr>\n",
       "      <th>3</th>\n",
       "      <td>Smote with Best LogReg</td>\n",
       "      <td>0.890640</td>\n",
       "      <td>0.754411</td>\n",
       "      <td>0.596532</td>\n",
       "      <td>{'lg__C': 0.5, 'lg__class_weight': {'functiona...</td>\n",
       "    </tr>\n",
       "    <tr>\n",
       "      <th>4</th>\n",
       "      <td>Best Smote + LogReg</td>\n",
       "      <td>0.880337</td>\n",
       "      <td>0.753535</td>\n",
       "      <td>0.597584</td>\n",
       "      <td>{'sm__k_neighbors': 5, 'sm__sampling_strategy'...</td>\n",
       "    </tr>\n",
       "  </tbody>\n",
       "</table>\n",
       "</div>"
      ],
      "text/plain": [
       "                    Model  train_score  test_score   log_loss  \\\n",
       "0                   Dummy     0.447071    0.448283  19.163400   \n",
       "1                  LogReg     0.857508    0.776970   0.569989   \n",
       "2             Best LogReg     0.880022    0.782828   0.547607   \n",
       "3  Smote with Best LogReg     0.890640    0.754411   0.596532   \n",
       "4     Best Smote + LogReg     0.880337    0.753535   0.597584   \n",
       "\n",
       "                                              params  \n",
       "0                                               None  \n",
       "1                                               None  \n",
       "2  {'lg__C': 0.5, 'lg__class_weight': {'functiona...  \n",
       "3  {'lg__C': 0.5, 'lg__class_weight': {'functiona...  \n",
       "4  {'sm__k_neighbors': 5, 'sm__sampling_strategy'...  "
      ]
     },
     "execution_count": 98,
     "metadata": {},
     "output_type": "execute_result"
    }
   ],
   "source": [
    "model1.df"
   ]
  },
  {
   "cell_type": "code",
   "execution_count": 44,
   "metadata": {
    "collapsed": true
   },
   "outputs": [
    {
     "name": "stdout",
     "output_type": "stream",
     "text": [
      "Classification Report for 'Dummy':\n",
      "                \n",
      "            \n",
      "                         precision    recall  f1-score   support\n",
      "\n",
      "             functional       0.54      0.54      0.54      8098\n",
      "functional needs repair       0.06      0.07      0.07      1074\n",
      "         non functional       0.38      0.38      0.38      5678\n",
      "\n",
      "               accuracy                           0.45     14850\n",
      "              macro avg       0.33      0.33      0.33     14850\n",
      "           weighted avg       0.45      0.45      0.45     14850\n",
      "\n",
      "Classification Report for 'LogReg':\n",
      "                \n",
      "            \n",
      "                         precision    recall  f1-score   support\n",
      "\n",
      "             functional       0.75      0.84      0.79      8098\n",
      "functional needs repair       0.51      0.25      0.34      1074\n",
      "         non functional       0.74      0.69      0.72      5678\n",
      "\n",
      "               accuracy                           0.74     14850\n",
      "              macro avg       0.67      0.59      0.61     14850\n",
      "           weighted avg       0.73      0.74      0.73     14850\n",
      "\n",
      "Classification Report for 'Best LogReg':\n",
      "                \n",
      "            \n",
      "                         precision    recall  f1-score   support\n",
      "\n",
      "             functional       0.75      0.85      0.80      8098\n",
      "functional needs repair       0.62      0.19      0.30      1074\n",
      "         non functional       0.75      0.70      0.72      5678\n",
      "\n",
      "               accuracy                           0.75     14850\n",
      "              macro avg       0.70      0.58      0.61     14850\n",
      "           weighted avg       0.74      0.75      0.73     14850\n",
      "\n",
      "Classification Report for 'Smote with Best LogReg':\n",
      "                \n",
      "            \n",
      "                         precision    recall  f1-score   support\n",
      "\n",
      "             functional       0.79      0.73      0.76      8098\n",
      "functional needs repair       0.32      0.56      0.41      1074\n",
      "         non functional       0.73      0.71      0.72      5678\n",
      "\n",
      "               accuracy                           0.71     14850\n",
      "              macro avg       0.62      0.67      0.63     14850\n",
      "           weighted avg       0.74      0.71      0.72     14850\n",
      "\n",
      "Classification Report for 'Best Smote + LogReg':\n",
      "                \n",
      "            \n",
      "                         precision    recall  f1-score   support\n",
      "\n",
      "             functional       0.78      0.77      0.77      8098\n",
      "functional needs repair       0.31      0.58      0.41      1074\n",
      "         non functional       0.78      0.66      0.72      5678\n",
      "\n",
      "               accuracy                           0.71     14850\n",
      "              macro avg       0.62      0.67      0.63     14850\n",
      "           weighted avg       0.74      0.71      0.72     14850\n",
      "\n"
     ]
    }
   ],
   "source": [
    "model2.class_report()"
   ]
  },
  {
   "cell_type": "code",
   "execution_count": 45,
   "metadata": {
    "collapsed": true
   },
   "outputs": [
    {
     "name": "stdout",
     "output_type": "stream",
     "text": [
      "Classification Report for 'Dummy':\n",
      "                0.45138 ± 0.00307 accuracy\n",
      "            \n",
      "Classification Report for 'LogReg':\n",
      "                0.73701 ± 0.00461 accuracy\n",
      "            \n",
      "Classification Report for 'Best LogReg':\n",
      "                0.74018 ± 0.00319 accuracy\n",
      "            \n",
      "Classification Report for 'Smote with Best LogReg':\n",
      "                0.70617 ± 0.00427 accuracy\n",
      "            \n",
      "Classification Report for 'Best Smote + LogReg':\n",
      "                0.70700 ± 0.00468 accuracy\n",
      "            \n"
     ]
    }
   ],
   "source": [
    "model2.cv_summary()"
   ]
  },
  {
   "cell_type": "code",
   "execution_count": 97,
   "metadata": {},
   "outputs": [
    {
     "data": {
      "text/html": [
       "<div>\n",
       "<style scoped>\n",
       "    .dataframe tbody tr th:only-of-type {\n",
       "        vertical-align: middle;\n",
       "    }\n",
       "\n",
       "    .dataframe tbody tr th {\n",
       "        vertical-align: top;\n",
       "    }\n",
       "\n",
       "    .dataframe thead th {\n",
       "        text-align: right;\n",
       "    }\n",
       "</style>\n",
       "<table border=\"1\" class=\"dataframe\">\n",
       "  <thead>\n",
       "    <tr style=\"text-align: right;\">\n",
       "      <th></th>\n",
       "      <th>Model</th>\n",
       "      <th>train_score</th>\n",
       "      <th>test_score</th>\n",
       "      <th>log_loss</th>\n",
       "      <th>params</th>\n",
       "    </tr>\n",
       "  </thead>\n",
       "  <tbody>\n",
       "    <tr>\n",
       "      <th>0</th>\n",
       "      <td>Dummy</td>\n",
       "      <td>0.448238</td>\n",
       "      <td>0.452795</td>\n",
       "      <td>19.103703</td>\n",
       "      <td>None</td>\n",
       "    </tr>\n",
       "    <tr>\n",
       "      <th>1</th>\n",
       "      <td>LogReg</td>\n",
       "      <td>0.809046</td>\n",
       "      <td>0.739327</td>\n",
       "      <td>0.626736</td>\n",
       "      <td>None</td>\n",
       "    </tr>\n",
       "    <tr>\n",
       "      <th>2</th>\n",
       "      <td>Best LogReg</td>\n",
       "      <td>0.815309</td>\n",
       "      <td>0.746599</td>\n",
       "      <td>0.614127</td>\n",
       "      <td>{'lg__C': 0.5, 'lg__class_weight': {'functiona...</td>\n",
       "    </tr>\n",
       "    <tr>\n",
       "      <th>3</th>\n",
       "      <td>Smote with Best LogReg</td>\n",
       "      <td>0.809630</td>\n",
       "      <td>0.710640</td>\n",
       "      <td>0.675548</td>\n",
       "      <td>{'lg__C': 0.5, 'lg__class_weight': {'functiona...</td>\n",
       "    </tr>\n",
       "    <tr>\n",
       "      <th>4</th>\n",
       "      <td>Best Smote + LogReg</td>\n",
       "      <td>0.804422</td>\n",
       "      <td>0.714613</td>\n",
       "      <td>0.675617</td>\n",
       "      <td>{'sm__k_neighbors': 10, 'sm__sampling_strategy...</td>\n",
       "    </tr>\n",
       "  </tbody>\n",
       "</table>\n",
       "</div>"
      ],
      "text/plain": [
       "                    Model  train_score  test_score   log_loss  \\\n",
       "0                   Dummy     0.448238    0.452795  19.103703   \n",
       "1                  LogReg     0.809046    0.739327   0.626736   \n",
       "2             Best LogReg     0.815309    0.746599   0.614127   \n",
       "3  Smote with Best LogReg     0.809630    0.710640   0.675548   \n",
       "4     Best Smote + LogReg     0.804422    0.714613   0.675617   \n",
       "\n",
       "                                              params  \n",
       "0                                               None  \n",
       "1                                               None  \n",
       "2  {'lg__C': 0.5, 'lg__class_weight': {'functiona...  \n",
       "3  {'lg__C': 0.5, 'lg__class_weight': {'functiona...  \n",
       "4  {'sm__k_neighbors': 10, 'sm__sampling_strategy...  "
      ]
     },
     "execution_count": 97,
     "metadata": {},
     "output_type": "execute_result"
    }
   ],
   "source": [
    "model2.df"
   ]
  },
  {
   "cell_type": "code",
   "execution_count": 141,
   "metadata": {
    "collapsed": true
   },
   "outputs": [
    {
     "data": {
      "text/plain": [
       "['accuracy',\n",
       " 'adjusted_mutual_info_score',\n",
       " 'adjusted_rand_score',\n",
       " 'average_precision',\n",
       " 'balanced_accuracy',\n",
       " 'completeness_score',\n",
       " 'explained_variance',\n",
       " 'f1',\n",
       " 'f1_macro',\n",
       " 'f1_micro',\n",
       " 'f1_samples',\n",
       " 'f1_weighted',\n",
       " 'fowlkes_mallows_score',\n",
       " 'homogeneity_score',\n",
       " 'jaccard',\n",
       " 'jaccard_macro',\n",
       " 'jaccard_micro',\n",
       " 'jaccard_samples',\n",
       " 'jaccard_weighted',\n",
       " 'max_error',\n",
       " 'mutual_info_score',\n",
       " 'neg_brier_score',\n",
       " 'neg_log_loss',\n",
       " 'neg_mean_absolute_error',\n",
       " 'neg_mean_gamma_deviance',\n",
       " 'neg_mean_poisson_deviance',\n",
       " 'neg_mean_squared_error',\n",
       " 'neg_mean_squared_log_error',\n",
       " 'neg_median_absolute_error',\n",
       " 'neg_root_mean_squared_error',\n",
       " 'normalized_mutual_info_score',\n",
       " 'precision',\n",
       " 'precision_macro',\n",
       " 'precision_micro',\n",
       " 'precision_samples',\n",
       " 'precision_weighted',\n",
       " 'r2',\n",
       " 'recall',\n",
       " 'recall_macro',\n",
       " 'recall_micro',\n",
       " 'recall_samples',\n",
       " 'recall_weighted',\n",
       " 'roc_auc',\n",
       " 'roc_auc_ovo',\n",
       " 'roc_auc_ovo_weighted',\n",
       " 'roc_auc_ovr',\n",
       " 'roc_auc_ovr_weighted',\n",
       " 'v_measure_score']"
      ]
     },
     "execution_count": 141,
     "metadata": {},
     "output_type": "execute_result"
    }
   ],
   "source": [
    "sorted(sklearn.metrics.SCORERS.keys())"
   ]
  },
  {
   "cell_type": "code",
   "execution_count": 168,
   "metadata": {},
   "outputs": [],
   "source": [
    "def roc_curve_ovr(estimator, xtrain, ytrain):\n",
    "\n",
    "    y_pred_prob = cross_val_predict(estimator, xtrain, ytrain, method='predict_proba')\n",
    "    for idx, label in enumerate(np.unique(ytrain)):\n",
    "\n",
    "        y_binary = (model1.ytrain == label).astype(int)\n",
    "        fpr, tpr, _ = roc_curve(y_binary, y_pred_prob[:, idx])\n",
    "\n",
    "        roc_auc = auc(fpr, tpr)\n",
    "\n",
    "        plt.plot(fpr,tpr, label= f'{label} (AUC = {roc_auc:.2f})')\n",
    "\n",
    "    plt.plot([0, 1], [0, 1], 'k--', lw=2)  # Diagonal line for reference\n",
    "    plt.xlim([0.0, 1.0])\n",
    "    plt.ylim([0.0, 1.05])\n",
    "    plt.xlabel('False Positive Rate (FPR)')\n",
    "    plt.ylabel('True Positive Rate (TPR)')\n",
    "    plt.title('ROC Curves for Each Class')\n",
    "    plt.legend(loc='lower right')\n",
    "    plt.show()"
   ]
  },
  {
   "cell_type": "code",
   "execution_count": 171,
   "metadata": {},
   "outputs": [],
   "source": [
    "model1.df.to_csv('./Data/Model1.csv', index=False)\n",
    "model2.df.to_csv('./Data/Model2.csv', index=False)"
   ]
  },
  {
   "cell_type": "code",
   "execution_count": null,
   "metadata": {},
   "outputs": [],
   "source": []
  }
 ],
 "metadata": {
  "kernelspec": {
   "display_name": "Python 3",
   "language": "python",
   "name": "python3"
  },
  "language_info": {
   "codemirror_mode": {
    "name": "ipython",
    "version": 3
   },
   "file_extension": ".py",
   "mimetype": "text/x-python",
   "name": "python",
   "nbconvert_exporter": "python",
   "pygments_lexer": "ipython3",
   "version": "3.8.5"
  }
 },
 "nbformat": 4,
 "nbformat_minor": 4
}
